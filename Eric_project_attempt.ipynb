{
  "nbformat": 4,
  "nbformat_minor": 0,
  "metadata": {
    "colab": {
      "name": "Eric_project_attempt.ipynb",
      "provenance": [],
      "authorship_tag": "ABX9TyMh3mCgMvCzMrdGElqlXPkC",
      "include_colab_link": true
    },
    "kernelspec": {
      "name": "python3",
      "display_name": "Python 3"
    }
  },
  "cells": [
    {
      "cell_type": "markdown",
      "metadata": {
        "id": "view-in-github",
        "colab_type": "text"
      },
      "source": [
        "<a href=\"https://colab.research.google.com/github/oviyajay/ML-Final-Project/blob/main/Eric_project_attempt.ipynb\" target=\"_parent\"><img src=\"https://colab.research.google.com/assets/colab-badge.svg\" alt=\"Open In Colab\"/></a>"
      ]
    },
    {
      "cell_type": "code",
      "metadata": {
        "colab": {
          "base_uri": "https://localhost:8080/",
          "height": 333
        },
        "id": "fSKQ3H_7vrav",
        "outputId": "6e8541db-0439-44b6-e4b2-c32a578ff025"
      },
      "source": [
        "import numpy as np\n",
        "import pandas as pd\n",
        "import keras\n",
        "import os \n",
        "import cv2\n",
        "import tensorflow as tf\n",
        "from tensorflow.keras.applications import ResNet50\n",
        "from tensorflow.python.keras.models import Sequential\n",
        "from tensorflow.python.keras.layers import Dense, Flatten, GlobalAveragePooling2D\n",
        "from sklearn.datasets import load_files"
      ],
      "execution_count": 11,
      "outputs": [
        {
          "output_type": "error",
          "ename": "ImportError",
          "evalue": "ignored",
          "traceback": [
            "\u001b[0;31m---------------------------------------------------------------------------\u001b[0m",
            "\u001b[0;31mImportError\u001b[0m                               Traceback (most recent call last)",
            "\u001b[0;32m<ipython-input-11-ae24a9bcdfba>\u001b[0m in \u001b[0;36m<module>\u001b[0;34m()\u001b[0m\n\u001b[1;32m      8\u001b[0m \u001b[0;32mfrom\u001b[0m \u001b[0mtensorflow\u001b[0m\u001b[0;34m.\u001b[0m\u001b[0mpython\u001b[0m\u001b[0;34m.\u001b[0m\u001b[0mkeras\u001b[0m\u001b[0;34m.\u001b[0m\u001b[0mmodels\u001b[0m \u001b[0;32mimport\u001b[0m \u001b[0mSequential\u001b[0m\u001b[0;34m\u001b[0m\u001b[0;34m\u001b[0m\u001b[0m\n\u001b[1;32m      9\u001b[0m \u001b[0;32mfrom\u001b[0m \u001b[0mtensorflow\u001b[0m\u001b[0;34m.\u001b[0m\u001b[0mpython\u001b[0m\u001b[0;34m.\u001b[0m\u001b[0mkeras\u001b[0m\u001b[0;34m.\u001b[0m\u001b[0mlayers\u001b[0m \u001b[0;32mimport\u001b[0m \u001b[0mDense\u001b[0m\u001b[0;34m,\u001b[0m \u001b[0mFlatten\u001b[0m\u001b[0;34m,\u001b[0m \u001b[0mGlobalAveragePooling2D\u001b[0m\u001b[0;34m\u001b[0m\u001b[0;34m\u001b[0m\u001b[0m\n\u001b[0;32m---> 10\u001b[0;31m \u001b[0;32mfrom\u001b[0m \u001b[0msklearn\u001b[0m\u001b[0;34m.\u001b[0m\u001b[0mdatasets\u001b[0m \u001b[0;32mimport\u001b[0m \u001b[0mload_imgs\u001b[0m\u001b[0;34m\u001b[0m\u001b[0;34m\u001b[0m\u001b[0m\n\u001b[0m",
            "\u001b[0;31mImportError\u001b[0m: cannot import name 'load_imgs'",
            "",
            "\u001b[0;31m---------------------------------------------------------------------------\u001b[0;32m\nNOTE: If your import is failing due to a missing package, you can\nmanually install dependencies using either !pip or !apt.\n\nTo view examples of installing some common dependencies, click the\n\"Open Examples\" button below.\n\u001b[0;31m---------------------------------------------------------------------------\u001b[0m\n"
          ]
        }
      ]
    },
    {
      "cell_type": "code",
      "metadata": {
        "id": "RavOatQqvtAj"
      },
      "source": [
        "!git clone https://github.com/oviyajay/ML-Final-Project"
      ],
      "execution_count": null,
      "outputs": []
    },
    {
      "cell_type": "code",
      "metadata": {
        "colab": {
          "base_uri": "https://localhost:8080/"
        },
        "id": "R4A1-hzrvzOV",
        "outputId": "3e19a363-8538-499d-f9cc-f36fbfc0a68a"
      },
      "source": [
        "train_path = \"/content/ML-Final-Project/maskdata/maskdata/train/\"\n",
        "os.listdir(train_path)\n",
        "\n",
        "test_path = \"/content/ML-Final-Project/maskdata/maskdata/test/\"\n",
        "os.listdir(test_path)"
      ],
      "execution_count": 8,
      "outputs": [
        {
          "output_type": "execute_result",
          "data": {
            "text/plain": [
              "['with_mask', 'without_mask']"
            ]
          },
          "metadata": {
            "tags": []
          },
          "execution_count": 8
        }
      ]
    },
    {
      "cell_type": "code",
      "metadata": {
        "id": "3nZ31NyIv1NG"
      },
      "source": [
        "def load_data(path):\n",
        "    data = load_files(path) #load all files from the path\n",
        "    imgs = np.array(data['filenames']) #get the file  \n",
        "    targets = np.array(data['target'])#get the the classification labels as integer index\n",
        "    labels = np.array(data['target_names'])#get the the classification labels \n",
        "    return imgs,targets,labels"
      ],
      "execution_count": 12,
      "outputs": []
    },
    {
      "cell_type": "code",
      "metadata": {
        "colab": {
          "base_uri": "https://localhost:8080/"
        },
        "id": "7Qqm3ZMTv4Oo",
        "outputId": "7d31f455-536d-4f17-b85c-dce68a7a5a31"
      },
      "source": [
        "x_train, y_train,labels = load_data(train_path)\n",
        "x_test, y_test,_ = load_data(test_path)\n",
        "\n",
        "print('number of train images: ' , x_train.shape[0])\n",
        "print('number of test images: ', x_test.shape[0])"
      ],
      "execution_count": 13,
      "outputs": [
        {
          "output_type": "stream",
          "text": [
            "number of train images:  616\n",
            "number of test images:  198\n"
          ],
          "name": "stdout"
        }
      ]
    },
    {
      "cell_type": "code",
      "metadata": {
        "id": "A9ywkHr5v6Y5"
      },
      "source": [
        "num_classes = 2\n",
        "resnet50_path = \"/content/ML-Final-Project/ResNet-50/resnet50_weights_tf_dim_ordering_tf_kernels_notop.h5\""
      ],
      "execution_count": 17,
      "outputs": []
    },
    {
      "cell_type": "code",
      "metadata": {
        "id": "XajT-oyqv665"
      },
      "source": [
        "MODEL = Sequential()\n",
        "MODEL.add(ResNet50(include_top=False, pooling='avg', weights=resnet50_path))\n",
        "MODEL.add(Dense(num_classes, activation='softmax'))\n",
        "\n",
        "MODEL.layers[0].trainable = False\n",
        "\n",
        "MODEL.compile(optimizer='sgd', loss='categorical_crossentropy', metrics=['accuracy'])"
      ],
      "execution_count": 24,
      "outputs": []
    },
    {
      "cell_type": "code",
      "metadata": {
        "colab": {
          "base_uri": "https://localhost:8080/"
        },
        "id": "RLDfs-oGxygL",
        "outputId": "35819882-667b-48c4-f9ec-35141b9952e5"
      },
      "source": [
        "from keras.applications.resnet50 import ResNet50\n",
        "from keras.preprocessing import image\n",
        "from keras.applications.resnet50 import preprocess_input, decode_predictions\n",
        "from keras_preprocessing.image import ImageDataGenerator\n",
        "import numpy as np\n",
        "\n",
        "\n",
        "image_size = 224\n",
        "generator = ImageDataGenerator(preprocessing_function=preprocess_input,horizontal_flip=True,\n",
        "                                   width_shift_range = 0.2,\n",
        "                                   height_shift_range = 0.2)\n",
        "\n",
        "\n",
        "generator_train_data = generator.flow_from_directory(\n",
        "        train_path,\n",
        "        target_size=(image_size, image_size),\n",
        "        batch_size=50,\n",
        "        class_mode='categorical')\n",
        "\n",
        "generator_validate_data = generator.flow_from_directory(test_path,target_size=(image_size, image_size),\n",
        "        class_mode='categorical')\n",
        "\n",
        "history=MODEL.fit_generator(\n",
        "        generator_train_data,\n",
        "        steps_per_epoch=4,epochs=3,\n",
        "        validation_data=generator_validate_data,\n",
        "        validation_steps=1)"
      ],
      "execution_count": 27,
      "outputs": [
        {
          "output_type": "stream",
          "text": [
            "Found 616 images belonging to 2 classes.\n",
            "Found 198 images belonging to 2 classes.\n",
            "Epoch 1/3\n",
            "4/4 [==============================] - 27s 7s/step - loss: 0.0901 - accuracy: 0.9800 - val_loss: 0.1093 - val_accuracy: 1.0000\n",
            "Epoch 2/3\n",
            "4/4 [==============================] - 22s 5s/step - loss: 0.0490 - accuracy: 0.9940 - val_loss: 0.1513 - val_accuracy: 0.9375\n",
            "Epoch 3/3\n",
            "4/4 [==============================] - 27s 7s/step - loss: 0.0502 - accuracy: 0.9950 - val_loss: 0.0810 - val_accuracy: 0.9688\n"
          ],
          "name": "stdout"
        }
      ]
    },
    {
      "cell_type": "code",
      "metadata": {
        "colab": {
          "base_uri": "https://localhost:8080/",
          "height": 573
        },
        "id": "q6vs4EQFynkx",
        "outputId": "e244e71a-8f69-4cb9-cc68-289a4a1b93d1"
      },
      "source": [
        "import matplotlib.pyplot as plt\n",
        "plt.plot(history.history['accuracy'])\n",
        "plt.plot(history.history['val_accuracy'])\n",
        "plt.title('model accuracy')\n",
        "plt.ylabel('accuracy')\n",
        "plt.xlabel('epoch')\n",
        "plt.legend(['train', 'test'], loc='upper left')\n",
        "plt.show()\n",
        "# summarize history for loss\n",
        "plt.plot(history.history['loss'])\n",
        "plt.plot(history.history['val_loss'])\n",
        "plt.title('model loss')\n",
        "plt.ylabel('loss')\n",
        "plt.xlabel('epoch')\n",
        "plt.legend(['train', 'test'], loc='upper left')\n",
        "plt.show()"
      ],
      "execution_count": 28,
      "outputs": [
        {
          "output_type": "display_data",
          "data": {
            "image/png": "[encoded data removed]",
            "text/plain": [
              "<Figure size 432x288 with 1 Axes>"
            ]
          },
          "metadata": {
            "tags": [],
            "needs_background": "light"
          }
        },
        {
          "output_type": "display_data",
          "data": {
            "image/png": "[encoded data removed]",
            "text/plain": [
              "<Figure size 432x288 with 1 Axes>"
            ]
          },
          "metadata": {
            "tags": [],
            "needs_background": "light"
          }
        }
      ]
    },
    {
      "cell_type": "code",
      "metadata": {
        "id": "J0MzcAANzV0M"
      },
      "source": [
        "import pickle\n",
        "\n",
        "pickle_out = open(\"resnet50_history.pickle\",\"wb\")\n",
        "pickle.dump(history.history, pickle_out)\n",
        "pickle_out.close()"
      ],
      "execution_count": 30,
      "outputs": []
    },
    {
      "cell_type": "code",
      "metadata": {
        "colab": {
          "base_uri": "https://localhost:8080/"
        },
        "id": "AFu9MVdd0FS3",
        "outputId": "cd2badbe-1cb7-4dd5-8b4d-fa8caa179210"
      },
      "source": [
        "pickle_in = open(\"resnet50_history.pickle\",\"rb\")\n",
        "saved_history = pickle.load(pickle_in)\n",
        "print(saved_history)"
      ],
      "execution_count": 31,
      "outputs": [
        {
          "output_type": "stream",
          "text": [
            "{'loss': [0.09013782441616058, 0.04896150156855583, 0.05017988756299019], 'accuracy': [0.9800000190734863, 0.9939758777618408, 0.9950000047683716], 'val_loss': [0.10930044203996658, 0.15125013887882233, 0.08098937571048737], 'val_accuracy': [1.0, 0.9375, 0.96875]}\n"
          ],
          "name": "stdout"
        }
      ]
    }
  ]
}