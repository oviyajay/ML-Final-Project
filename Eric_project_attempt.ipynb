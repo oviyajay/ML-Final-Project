{
  "nbformat": 4,
  "nbformat_minor": 0,
  "metadata": {
    "colab": {
      "name": "Eric_project_attempt.ipynb",
      "provenance": [],
      "authorship_tag": "ABX9TyPE73UbrptJeZCZ60gOBRTr",
      "include_colab_link": true
    },
    "kernelspec": {
      "name": "python3",
      "display_name": "Python 3"
    }
  },
  "cells": [
    {
      "cell_type": "markdown",
      "metadata": {
        "id": "view-in-github",
        "colab_type": "text"
      },
      "source": [
        "<a href=\"https://colab.research.google.com/github/oviyajay/ML-Final-Project/blob/main/Eric_project_attempt.ipynb\" target=\"_parent\"><img src=\"https://colab.research.google.com/assets/colab-badge.svg\" alt=\"Open In Colab\"/></a>"
      ]
    },
    {
      "cell_type": "code",
      "metadata": {
        "id": "fSKQ3H_7vrav"
      },
      "source": [
        "import numpy as np\n",
        "import pandas as pd\n",
        "import keras\n",
        "import os \n",
        "import tensorflow as tf\n",
        "from tensorflow.keras.applications import ResNet50\n",
        "from tensorflow.python.keras.models import Sequential\n",
        "from tensorflow.python.keras.layers import Dense, Flatten, GlobalAveragePooling2D\n",
        "from sklearn.datasets import load_files"
      ],
      "execution_count": 3,
      "outputs": []
    },
    {
      "cell_type": "code",
      "metadata": {
        "id": "RavOatQqvtAj",
        "outputId": "96ca1826-383e-4bb0-aa92-ca2691cd53ea",
        "colab": {
          "base_uri": "https://localhost:8080/"
        }
      },
      "source": [
        "!git clone https://github.com/oviyajay/ML-Final-Project"
      ],
      "execution_count": 2,
      "outputs": [
        {
          "output_type": "stream",
          "text": [
            "Cloning into 'ML-Final-Project'...\n",
            "remote: Enumerating objects: 3, done.\u001b[K\n",
            "remote: Counting objects: 100% (3/3), done.\u001b[K\n",
            "remote: Compressing objects: 100% (3/3), done.\u001b[K\n",
            "remote: Total 949 (delta 0), reused 0 (delta 0), pack-reused 946\u001b[K\n",
            "Receiving objects: 100% (949/949), 109.13 MiB | 33.81 MiB/s, done.\n",
            "Resolving deltas: 100% (39/39), done.\n"
          ],
          "name": "stdout"
        }
      ]
    },
    {
      "cell_type": "code",
      "metadata": {
        "colab": {
          "base_uri": "https://localhost:8080/"
        },
        "id": "R4A1-hzrvzOV",
        "outputId": "2979998f-c8ba-4621-eafc-b4cc7dabae45"
      },
      "source": [
        "train_path = \"/content/ML-Final-Project/maskdata/maskdata/train/\"\n",
        "os.listdir(train_path)\n",
        "\n",
        "test_path = \"/content/ML-Final-Project/maskdata/maskdata/test/\"\n",
        "os.listdir(test_path)"
      ],
      "execution_count": 5,
      "outputs": [
        {
          "output_type": "execute_result",
          "data": {
            "text/plain": [
              "['with_mask', 'without_mask']"
            ]
          },
          "metadata": {
            "tags": []
          },
          "execution_count": 5
        }
      ]
    },
    {
      "cell_type": "markdown",
      "metadata": {
        "id": "gFYCNF8z05H7"
      },
      "source": [
        ""
      ]
    },
    {
      "cell_type": "code",
      "metadata": {
        "id": "3nZ31NyIv1NG"
      },
      "source": [
        "def load_data(path):\n",
        "    data = load_files(path) #load all files from the path\n",
        "    imgs = np.array(data['filenames']) #get the file  \n",
        "    targets = np.array(data['target'])#get the the classification labels as integer index\n",
        "    labels = np.array(data['target_names'])#get the the classification labels \n",
        "    return imgs,targets,labels"
      ],
      "execution_count": 6,
      "outputs": []
    },
    {
      "cell_type": "code",
      "metadata": {
        "colab": {
          "base_uri": "https://localhost:8080/"
        },
        "id": "7Qqm3ZMTv4Oo",
        "outputId": "abc3dae6-4da4-49ee-8ff7-31e2b751c3e4"
      },
      "source": [
        "x_train, y_train,labels = load_data(train_path)\n",
        "x_test, y_test,_ = load_data(test_path)\n",
        "\n",
        "print('number of train images: ' , x_train.shape[0])\n",
        "print('number of test images: ', x_test.shape[0])"
      ],
      "execution_count": 7,
      "outputs": [
        {
          "output_type": "stream",
          "text": [
            "number of train images:  616\n",
            "number of test images:  198\n"
          ],
          "name": "stdout"
        }
      ]
    },
    {
      "cell_type": "code",
      "metadata": {
        "id": "A9ywkHr5v6Y5"
      },
      "source": [
        "num_classes = 2\n",
        "resnet50_path = \"/content/ML-Final-Project/ResNet-50/resnet50_weights_tf_dim_ordering_tf_kernels_notop.h5\""
      ],
      "execution_count": 8,
      "outputs": []
    },
    {
      "cell_type": "code",
      "metadata": {
        "id": "XajT-oyqv665"
      },
      "source": [
        "MODEL = Sequential()\n",
        "MODEL.add(ResNet50(include_top=False, pooling='avg', weights=resnet50_path))\n",
        "MODEL.add(Dense(num_classes, activation='softmax'))\n",
        "\n",
        "MODEL.layers[0].trainable = False\n",
        "\n",
        "MODEL.compile(optimizer='sgd', loss='categorical_crossentropy', metrics=['accuracy'])"
      ],
      "execution_count": 9,
      "outputs": []
    },
    {
      "cell_type": "code",
      "metadata": {
        "colab": {
          "base_uri": "https://localhost:8080/"
        },
        "id": "RLDfs-oGxygL",
        "outputId": "9696c70a-ea1f-4af5-b04b-7542a5c7f125"
      },
      "source": [
        "from keras.applications.resnet50 import ResNet50\n",
        "from keras.preprocessing import image\n",
        "from keras.applications.resnet50 import preprocess_input, decode_predictions\n",
        "from keras_preprocessing.image import ImageDataGenerator\n",
        "import numpy as np\n",
        "\n",
        "\n",
        "image_size = 224\n",
        "generator = ImageDataGenerator(preprocessing_function=preprocess_input,horizontal_flip=True,\n",
        "                                   width_shift_range = 0.2,\n",
        "                                   height_shift_range = 0.2)\n",
        "\n",
        "\n",
        "generator_train_data = generator.flow_from_directory(\n",
        "        train_path,\n",
        "        target_size=(image_size, image_size),\n",
        "        batch_size=50,\n",
        "        class_mode='categorical')\n",
        "\n",
        "generator_validate_data = generator.flow_from_directory(test_path,target_size=(image_size, image_size),\n",
        "        class_mode='categorical')\n",
        "\n",
        "history=MODEL.fit_generator(\n",
        "        generator_train_data,\n",
        "        steps_per_epoch=4,epochs=3,\n",
        "        validation_data=generator_validate_data,\n",
        "        validation_steps=1)"
      ],
      "execution_count": 10,
      "outputs": [
        {
          "output_type": "stream",
          "text": [
            "Found 616 images belonging to 2 classes.\n",
            "Found 198 images belonging to 2 classes.\n",
            "WARNING:tensorflow:From <ipython-input-10-b61765382b6a>:27: Model.fit_generator (from tensorflow.python.keras.engine.training) is deprecated and will be removed in a future version.\n",
            "Instructions for updating:\n",
            "Please use Model.fit, which supports generators.\n",
            "Epoch 1/3\n",
            "4/4 [==============================] - 31s 8s/step - loss: 0.5084 - accuracy: 0.7550 - val_loss: 1.1056 - val_accuracy: 0.4375\n",
            "Epoch 2/3\n",
            "4/4 [==============================] - 29s 7s/step - loss: 0.1985 - accuracy: 0.9100 - val_loss: 0.1354 - val_accuracy: 0.9688\n",
            "Epoch 3/3\n",
            "4/4 [==============================] - 29s 7s/step - loss: 0.1079 - accuracy: 0.9850 - val_loss: 0.1223 - val_accuracy: 0.9688\n"
          ],
          "name": "stdout"
        }
      ]
    },
    {
      "cell_type": "code",
      "metadata": {
        "colab": {
          "base_uri": "https://localhost:8080/",
          "height": 573
        },
        "id": "q6vs4EQFynkx",
        "outputId": "8d3f574f-cdd1-42ab-ea18-6a719f63038c"
      },
      "source": [
        "import matplotlib.pyplot as plt\n",
        "plt.plot(history.history['accuracy'])\n",
        "plt.plot(history.history['val_accuracy'])\n",
        "plt.title('model accuracy')\n",
        "plt.ylabel('accuracy')\n",
        "plt.xlabel('epoch')\n",
        "plt.legend(['train', 'test'], loc='upper left')\n",
        "plt.show()\n",
        "# summarize history for loss\n",
        "plt.plot(history.history['loss'])\n",
        "plt.plot(history.history['val_loss'])\n",
        "plt.title('model loss')\n",
        "plt.ylabel('loss')\n",
        "plt.xlabel('epoch')\n",
        "plt.legend(['train', 'test'], loc='upper left')\n",
        "plt.show()"
      ],
      "execution_count": 11,
      "outputs": [
        {
          "output_type": "display_data",
          "data": {
            "image/png": "[encoded data removed]",
            "text/plain": [
              "<Figure size 432x288 with 1 Axes>"
            ]
          },
          "metadata": {
            "tags": [],
            "needs_background": "light"
          }
        },
        {
          "output_type": "display_data",
          "data": {
            "image/png": "[encoded data removed]",
            "text/plain": [
              "<Figure size 432x288 with 1 Axes>"
            ]
          },
          "metadata": {
            "tags": [],
            "needs_background": "light"
          }
        }
      ]
    },
    {
      "cell_type": "code",
      "metadata": {
        "id": "J0MzcAANzV0M"
      },
      "source": [
        "import pickle\n",
        "\n",
        "pickle_out = open(\"resnet50_history.pickle\",\"wb\")\n",
        "pickle.dump(history.history, pickle_out)\n",
        "pickle_out.close()"
      ],
      "execution_count": 12,
      "outputs": []
    },
    {
      "cell_type": "code",
      "metadata": {
        "colab": {
          "base_uri": "https://localhost:8080/"
        },
        "id": "AFu9MVdd0FS3",
        "outputId": "1d410e6e-7d53-4fdf-8e70-60b0ac90a8f6"
      },
      "source": [
        "pickle_in = open(\"resnet50_history.pickle\",\"rb\")\n",
        "saved_history = pickle.load(pickle_in)\n",
        "print(saved_history)"
      ],
      "execution_count": 13,
      "outputs": [
        {
          "output_type": "stream",
          "text": [
            "{'loss': [0.5084307193756104, 0.19853101670742035, 0.10791189223527908], 'accuracy': [0.7549999952316284, 0.9100000262260437, 0.9850000143051147], 'val_loss': [1.105634331703186, 0.1353895515203476, 0.12232695519924164], 'val_accuracy': [0.4375, 0.96875, 0.96875]}\n"
          ],
          "name": "stdout"
        }
      ]
    }
  ]
}