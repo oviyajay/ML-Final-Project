{
  "nbformat": 4,
  "nbformat_minor": 0,
  "metadata": {
    "colab": {
      "name": "MLfinal.ipynb",
      "provenance": [],
      "include_colab_link": true
    },
    "kernelspec": {
      "name": "python3",
      "display_name": "Python 3"
    }
  },
  "cells": [
    {
      "cell_type": "markdown",
      "metadata": {
        "id": "view-in-github",
        "colab_type": "text"
      },
      "source": [
        "<a href=\"https://colab.research.google.com/github/oviyajay/ML-Final-Project/blob/main/MLfinal.ipynb\" target=\"_parent\"><img src=\"https://colab.research.google.com/assets/colab-badge.svg\" alt=\"Open In Colab\"/></a>"
      ]
    },
    {
      "cell_type": "code",
      "metadata": {
        "id": "aOWb6AxezM4z",
        "colab": {
          "base_uri": "https://localhost:8080/"
        },
        "outputId": "4a8d6655-edf8-4af6-cbd9-c7435665c101"
      },
      "source": [
        "import numpy as np\n",
        "import tensorflow as tf\n",
        "import os \n",
        "import cv2\n",
        "!pip install tflearn\n",
        "import tflearn \n",
        "from tflearn.layers.conv import conv_2d, max_pool_2d \n",
        "from tflearn.layers.core import input_data, dropout, fully_connected \n",
        "from tflearn.layers.estimator import regression \n",
        "\n",
        "#Members:...\n",
        "#https://blog.paperspace.com/image-captioning-with-ai/\n",
        "#image preprocessing\n",
        "\n",
        "# TEST_W_MASK=\"https://github.com/oviyajay/ML-Final-Project/tree/main/maskdata/maskdata/test/with_mask\"\n",
        "# TEST_WO_MASK=\"https://github.com/oviyajay/ML-Final-Project/tree/main/maskdata/maskdata/test/without_mask\"\n",
        "# TRAIN_W_MASK=\"https://github.com/oviyajay/ML-Final-Project/tree/main/maskdata/maskdata/train/with_mask\"\n",
        "# TRAIN_WO_MASK=\"https://github.com/oviyajay/ML-Final-Project/tree/main/maskdata/maskdata/train/without_mask\"\n",
        "\n",
        "!git clone https://github.com/oviyajay/ML-Final-Project\n",
        "\n",
        "#label the images\n",
        "#create training data and test data \n"
      ],
      "execution_count": null,
      "outputs": [
        {
          "output_type": "stream",
          "text": [
            "Collecting tflearn\n",
            "\u001b[?25l  Downloading https://files.pythonhosted.org/packages/e7/3c/0b156d08ef3d4e2a8009ecab2af1ad2e304f6fb99562b6271c68a74a4397/tflearn-0.5.0.tar.gz (107kB)\n",
            "\u001b[K     |████████████████████████████████| 112kB 5.6MB/s \n",
            "\u001b[?25hRequirement already satisfied: numpy in /usr/local/lib/python3.6/dist-packages (from tflearn) (1.18.5)\n",
            "Requirement already satisfied: six in /usr/local/lib/python3.6/dist-packages (from tflearn) (1.15.0)\n",
            "Requirement already satisfied: Pillow in /usr/local/lib/python3.6/dist-packages (from tflearn) (7.0.0)\n",
            "Building wheels for collected packages: tflearn\n",
            "  Building wheel for tflearn (setup.py) ... \u001b[?25l\u001b[?25hdone\n",
            "  Created wheel for tflearn: filename=tflearn-0.5.0-cp36-none-any.whl size=127301 sha256=b8bd95fde44e3c5e78541590d89d2a3ed241f20ab0978c7167f10b19034f28f8\n",
            "  Stored in directory: /root/.cache/pip/wheels/31/d2/ed/fb9a0d301dd9586c11e9547120278e624227f22fd5f4baf744\n",
            "Successfully built tflearn\n",
            "Installing collected packages: tflearn\n",
            "Successfully installed tflearn-0.5.0\n",
            "WARNING:tensorflow:From /usr/local/lib/python3.6/dist-packages/tensorflow/python/compat/v2_compat.py:96: disable_resource_variables (from tensorflow.python.ops.variable_scope) is deprecated and will be removed in a future version.\n",
            "Instructions for updating:\n",
            "non-resource variables are not supported in the long term\n",
            "Cloning into 'ML-Final-Project'...\n",
            "remote: Enumerating objects: 6, done.\u001b[K\n",
            "remote: Counting objects: 100% (6/6), done.\u001b[K\n",
            "remote: Compressing objects: 100% (6/6), done.\u001b[K\n",
            "remote: Total 952 (delta 1), reused 0 (delta 0), pack-reused 946\u001b[K\n",
            "Receiving objects: 100% (952/952), 109.16 MiB | 33.48 MiB/s, done.\n",
            "Resolving deltas: 100% (40/40), done.\n"
          ],
          "name": "stdout"
        }
      ]
    },
    {
      "cell_type": "code",
      "metadata": {
        "id": "1uI6V8QNzIAT",
        "colab": {
          "base_uri": "https://localhost:8080/"
        },
        "outputId": "b19df673-8f91-40fa-9fb6-7ae47a723349"
      },
      "source": [
        "#Eric \n",
        "train_path = \"/content/ML-Final-Project/maskdata/maskdata/train/\"\n",
        "os.listdir(train_path)\n",
        "\n",
        "test_path = \"/content/ML-Final-Project/maskdata/maskdata/test/\"\n",
        "os.listdir(test_path)\n",
        "\n"
      ],
      "execution_count": null,
      "outputs": [
        {
          "output_type": "execute_result",
          "data": {
            "text/plain": [
              "['with_mask', 'without_mask']"
            ]
          },
          "metadata": {
            "tags": []
          },
          "execution_count": 3
        }
      ]
    },
    {
      "cell_type": "code",
      "metadata": {
        "id": "6X4S4x1euWQY"
      },
      "source": [
        "label_names = ['without_mask', 'with_mask']\n",
        "IMG_SIZE = 50\n",
        "LR = 1e-3\n",
        "MODEL_NAME = 'withMaskvsnoMask-{}-{}.model'.format(LR, '6conv-basic')\n",
        "\n",
        "def load_data(path):\n",
        "  data = []\n",
        "\n",
        "  for label in label_names:\n",
        "    for filename in os.listdir(os.path.join(path, label)):\n",
        "    \n",
        "      img_file = os.path.join(path, label, filename)\n",
        "       \n",
        "      img = cv2.imread(img_file, cv2.IMREAD_COLOR)    \n",
        "      \n",
        "\n",
        "      # resizing the image for processing\n",
        "      img = cv2.resize(img, (IMG_SIZE, IMG_SIZE), )\n",
        "      \n",
        "\n",
        "      #withmask: id = 1, withoutmask: id = 0\n",
        "      label_id = label_names.index(label)\n",
        "  \n",
        "\n",
        "      # final step-forming the training data list with numpy array of the images \n",
        "      data.append([np.array(img), np.array(label_id)]) \n",
        "\n",
        "  return data\n",
        "\n"
      ],
      "execution_count": null,
      "outputs": []
    },
    {
      "cell_type": "code",
      "metadata": {
        "id": "fgefZWnaxlpw",
        "colab": {
          "base_uri": "https://localhost:8080/"
        },
        "outputId": "85de9dfb-c70d-42f2-d790-7600cb664f36"
      },
      "source": [
        "train_data = load_data(train_path)\n",
        "print(len(train_data))\n",
        "test_data = load_data(test_path)\n"
      ],
      "execution_count": null,
      "outputs": [
        {
          "output_type": "stream",
          "text": [
            "616\n"
          ],
          "name": "stdout"
        }
      ]
    },
    {
      "cell_type": "code",
      "metadata": {
        "id": "AOsI47vYx8DQ",
        "colab": {
          "base_uri": "https://localhost:8080/"
        },
        "outputId": "12db6017-308a-46e0-8ebb-3aa06074e008"
      },
      "source": [
        "# train is a list of [x, y] pairs\n",
        "#train_x = [i[0] for i in train_data]  #i[0] is a numpy array that is the size/shape of a single image\n",
        "print(len(train_data))\n",
        "train_x = [i[0] for i in train_data]\n",
        "train_x = np.array(train_x, dtype=float).reshape(-1, IMG_SIZE, IMG_SIZE, 3)  # num_image, width, height, channels\n",
        "train_y = [i[1] for i in train_data]\n",
        "train_y = np.array(train_y, dtype=float)\n",
        "#train_y = tf.keras.utils.to_categorical(train_y)\n",
        "test_x = [i[0] for i in test_data]\n",
        "test_x = np.array(test_x).reshape(-1, IMG_SIZE, IMG_SIZE, 3) \n",
        "test_y = [i[1] for i in test_data]\n",
        "test_y = np.array(test_y, dtype=float)\n",
        "print(train_x.shape)\n",
        "print(train_y.shape)\n"
      ],
      "execution_count": null,
      "outputs": [
        {
          "output_type": "stream",
          "text": [
            "616\n",
            "(616, 50, 50, 3)\n",
            "(616,)\n"
          ],
          "name": "stdout"
        }
      ]
    },
    {
      "cell_type": "code",
      "metadata": {
        "id": "WgiiQ1Z3teiN",
        "colab": {
          "base_uri": "https://localhost:8080/"
        },
        "outputId": "0809e8f6-33a6-42d8-adb5-dc90f142c29a"
      },
      "source": [
        "#Iant\n",
        "#tf.reset_default_graph() \n",
        "cnn = input_data(shape =[None, IMG_SIZE, IMG_SIZE, 1], name ='input') \n",
        "\n",
        "#convolution and pooling operations\n",
        "#as for the arguments, (convolutional network, numbers of channels, filter size(if one number 'x' is passed, then both dimensions are 'x' ), activation function used)\n",
        "#in our case, we're starting with 16 channels, gradually working up to 128. By convention, the number of channels gradually increase or stay the same as it works its way further into the CNN\n",
        "#filter size changed from 5x5 to 3x3\n",
        "\n",
        "cnn = conv_2d(cnn, 16, 3, activation ='relu') \n",
        "cnn = max_pool_2d(cnn, 3) \n",
        "\n",
        "cnn = conv_2d(cnn, 32, 3, activation ='relu') \n",
        "cnn = max_pool_2d(cnn, 3) \n",
        "  \n",
        "cnn = conv_2d(cnn, 64, 3, activation ='relu') \n",
        "cnn = max_pool_2d(cnn, 3) \n",
        "  \n",
        "cnn = conv_2d(cnn, 128, 3, activation ='relu') \n",
        "cnn = max_pool_2d(cnn, 3) \n",
        "  \n",
        "cnn = fully_connected(cnn, 1024, activation ='relu') \n",
        "cnn = dropout(cnn, 0.8) \n",
        "  \n",
        "cnn = fully_connected(cnn, 2, activation ='softmax') \n",
        "cnn = regression(cnn, optimizer ='adam', learning_rate = LR, \n",
        "      loss ='categorical_crossentropy', name ='targets') \n",
        "  \n",
        "model = tflearn.DNN(cnn, tensorboard_dir ='log') "
      ],
      "execution_count": null,
      "outputs": [
        {
          "output_type": "stream",
          "text": [
            "WARNING:tensorflow:From /usr/local/lib/python3.6/dist-packages/tflearn/initializations.py:110: calling UniformUnitScaling.__init__ (from tensorflow.python.ops.init_ops) with dtype is deprecated and will be removed in a future version.\n",
            "Instructions for updating:\n",
            "Call initializer instance with the dtype argument instead of passing it to the constructor\n",
            "WARNING:tensorflow:From /usr/local/lib/python3.6/dist-packages/tensorflow/python/util/deprecation.py:507: UniformUnitScaling.__init__ (from tensorflow.python.ops.init_ops) is deprecated and will be removed in a future version.\n",
            "Instructions for updating:\n",
            "Use tf.initializers.variance_scaling instead with distribution=uniform to get equivalent behavior.\n",
            "WARNING:tensorflow:From /usr/local/lib/python3.6/dist-packages/tflearn/initializations.py:165: calling TruncatedNormal.__init__ (from tensorflow.python.ops.init_ops) with dtype is deprecated and will be removed in a future version.\n",
            "Instructions for updating:\n",
            "Call initializer instance with the dtype argument instead of passing it to the constructor\n",
            "WARNING:tensorflow:From /usr/local/lib/python3.6/dist-packages/tensorflow/python/util/dispatch.py:201: calling dropout (from tensorflow.python.ops.nn_ops) with keep_prob is deprecated and will be removed in a future version.\n",
            "Instructions for updating:\n",
            "Please use `rate` instead of `keep_prob`. Rate should be set to `rate = 1 - keep_prob`.\n"
          ],
          "name": "stdout"
        }
      ]
    },
    {
      "cell_type": "code",
      "metadata": {
        "id": "lNXpYjbGtp-h",
        "colab": {
          "base_uri": "https://localhost:8080/",
          "height": 1000
        },
        "outputId": "618f2e30-f62e-4dc9-d5ac-87f7c122beba"
      },
      "source": [
        "#Oviya\n",
        "#model.fit({'input': train_x}, {'targets': train_y}, n_epoch=10, validation_set=({'input': test_x}, {'targets': test_y}),snapshot_step = 500, show_metric=True,run_id = MODEL_NAME )\n",
        "#model.save(MODEL_NAME)\n",
        "\n",
        "#--------------------using KERAS------------------------------#\n",
        "\n",
        "#create our CNN Model\n",
        "\n",
        "class MyModel(tf.keras.Model):\n",
        "  def __init__(self):\n",
        "    #define layers\n",
        "    super(MyModel, self).__init__()\n",
        "    self.conv1 = tf.keras.layers.Conv2D(32, kernel_size=(5,5),activation=tf.nn.relu, input_shape=(IMG_SIZE,IMG_SIZE,3))\n",
        "    self.max1 = tf.keras.layers.MaxPooling2D(pool_size=(2,2), strides=(2,2))\n",
        "    self.conv2 = tf.keras.layers.Conv2D(64, (5,5), activation = 'relu')\n",
        "    self.max2=tf.keras.layers.MaxPooling2D(pool_size=(2,2))\n",
        "  \n",
        "  def call(self,inputs):\n",
        "    #first convolution layer\n",
        "    convOne = (self.conv1)(inputs)\n",
        "    maxOne = (self.max1)(convOne)\n",
        "    #second convolution layer\n",
        "    convTwo = (self.conv2)(maxOne)\n",
        "    maxTwo = (self.max2)(convTwo)\n",
        "    #flatten the array\n",
        "    flat = tf.keras.layers.Flatten()(maxTwo)\n",
        "    #hidden layer\n",
        "    hiddenLayer = tf.keras.layers.Dense(75, activation = 'relu')(flat) \n",
        "    #output layer\n",
        "    outputLayer = tf.keras.layers.Dense(2, activation ='softmax')(hiddenLayer)\n",
        "\n",
        "\n",
        "\n",
        "    return outputLayer\n",
        "\n",
        "#create an instance of our model\n",
        "model = MyModel()\n",
        "#through keras, the model must be compiled by assiging it a loss function and metrics\n",
        "#since we are using one-hot encoding to classify our images, we will use the loss function \"Categorical Crossentropy\"\n",
        "model.compile(loss='categorical_crossentropy', metrics=['accuracy'], optimizer='sgd')\n",
        "#next we must fit our data to our model and assign batch_size and number of epochs\n",
        "\n",
        "history = model.fit(train_x,train_y, batch_size= 100, epochs=1000)\n",
        "#_,accuracy = model.evaluate(train_x,train_y)\n",
        "\n",
        "\n"
      ],
      "execution_count": null,
      "outputs": [
        {
          "output_type": "stream",
          "text": [
            "Train on 616 samples\n",
            "Epoch 1/1000\n",
            "616/616 [==============================] - 2s 4ms/sample - loss: 22.9918 - acc: 0.5649\n",
            "Epoch 2/1000\n",
            "616/616 [==============================] - 2s 4ms/sample - loss: 6.7302 - acc: 0.3847\n",
            "Epoch 3/1000\n",
            "616/616 [==============================] - 2s 4ms/sample - loss: 7.7009 - acc: 0.4123\n",
            "Epoch 4/1000\n",
            "616/616 [==============================] - 2s 4ms/sample - loss: 12.7300 - acc: 0.4675\n",
            "Epoch 5/1000\n",
            "616/616 [==============================] - 2s 4ms/sample - loss: 25.7797 - acc: 0.4529\n",
            "Epoch 6/1000\n",
            "616/616 [==============================] - 2s 4ms/sample - loss: 51.7428 - acc: 0.4740\n",
            "Epoch 7/1000\n",
            "616/616 [==============================] - 2s 4ms/sample - loss: 81.5377 - acc: 0.4951\n",
            "Epoch 8/1000\n",
            "616/616 [==============================] - 2s 4ms/sample - loss: 121.7127 - acc: 0.5162\n",
            "Epoch 9/1000\n",
            "616/616 [==============================] - 2s 4ms/sample - loss: 215.4753 - acc: 0.4903\n",
            "Epoch 10/1000\n",
            "616/616 [==============================] - 2s 4ms/sample - loss: 333.1543 - acc: 0.4838\n",
            "Epoch 11/1000\n",
            "616/616 [==============================] - 2s 4ms/sample - loss: 494.2003 - acc: 0.5032\n",
            "Epoch 12/1000\n",
            "616/616 [==============================] - 2s 4ms/sample - loss: 690.2824 - acc: 0.5325\n",
            "Epoch 13/1000\n",
            "616/616 [==============================] - 2s 4ms/sample - loss: 909.2162 - acc: 0.4854\n",
            "Epoch 14/1000\n",
            "616/616 [==============================] - 2s 4ms/sample - loss: 1141.6263 - acc: 0.4416\n",
            "Epoch 15/1000\n",
            "616/616 [==============================] - 2s 4ms/sample - loss: 1411.4441 - acc: 0.4935\n",
            "Epoch 16/1000\n",
            "616/616 [==============================] - 2s 4ms/sample - loss: 1792.0044 - acc: 0.5130\n",
            "Epoch 17/1000\n",
            "616/616 [==============================] - 2s 4ms/sample - loss: 2212.3677 - acc: 0.4545\n",
            "Epoch 18/1000\n",
            "616/616 [==============================] - 2s 4ms/sample - loss: 2708.6085 - acc: 0.5000\n",
            "Epoch 19/1000\n",
            "616/616 [==============================] - 2s 4ms/sample - loss: 3205.4658 - acc: 0.5601\n",
            "Epoch 20/1000\n",
            "616/616 [==============================] - 2s 4ms/sample - loss: 3576.7121 - acc: 0.4237\n",
            "Epoch 21/1000\n",
            "616/616 [==============================] - 2s 4ms/sample - loss: 4050.7735 - acc: 0.5552\n",
            "Epoch 22/1000\n",
            "616/616 [==============================] - 2s 4ms/sample - loss: 4381.5680 - acc: 0.4903\n",
            "Epoch 23/1000\n",
            "616/616 [==============================] - 2s 4ms/sample - loss: 4812.3008 - acc: 0.4805\n",
            "Epoch 24/1000\n",
            "616/616 [==============================] - 2s 4ms/sample - loss: 5331.9198 - acc: 0.4789\n",
            "Epoch 25/1000\n",
            "616/616 [==============================] - 2s 4ms/sample - loss: 6400.6038 - acc: 0.5763\n",
            "Epoch 26/1000\n",
            "616/616 [==============================] - 2s 4ms/sample - loss: 6821.5388 - acc: 0.4432\n",
            "Epoch 27/1000\n",
            "616/616 [==============================] - 2s 4ms/sample - loss: 7592.5468 - acc: 0.5179\n",
            "Epoch 28/1000\n",
            "616/616 [==============================] - 2s 4ms/sample - loss: 8365.9467 - acc: 0.5162\n",
            "Epoch 29/1000\n",
            "616/616 [==============================] - 2s 4ms/sample - loss: 9150.8041 - acc: 0.5000\n",
            "Epoch 30/1000\n",
            "616/616 [==============================] - 2s 4ms/sample - loss: 10007.6654 - acc: 0.4838\n",
            "Epoch 31/1000\n",
            "616/616 [==============================] - 2s 4ms/sample - loss: 10800.5091 - acc: 0.4805\n",
            "Epoch 32/1000\n",
            "616/616 [==============================] - 2s 4ms/sample - loss: 11508.1844 - acc: 0.4968\n",
            "Epoch 33/1000\n",
            "616/616 [==============================] - 2s 4ms/sample - loss: 12318.6201 - acc: 0.4773\n",
            "Epoch 34/1000\n",
            "616/616 [==============================] - 2s 4ms/sample - loss: 13522.5166 - acc: 0.5130\n",
            "Epoch 35/1000\n",
            "300/616 [=============>................] - ETA: 0s - loss: 15411.1442 - acc: 0.4267"
          ],
          "name": "stdout"
        },
        {
          "output_type": "error",
          "ename": "KeyboardInterrupt",
          "evalue": "ignored",
          "traceback": [
            "\u001b[0;31m---------------------------------------------------------------------------\u001b[0m",
            "\u001b[0;31mKeyboardInterrupt\u001b[0m                         Traceback (most recent call last)",
            "\u001b[0;32m<ipython-input-74-6dd477cae7dc>\u001b[0m in \u001b[0;36m<module>\u001b[0;34m()\u001b[0m\n\u001b[1;32m     41\u001b[0m \u001b[0;31m#next we must fit our data to our model and assign batch_size and number of epochs\u001b[0m\u001b[0;34m\u001b[0m\u001b[0;34m\u001b[0m\u001b[0;34m\u001b[0m\u001b[0m\n\u001b[1;32m     42\u001b[0m \u001b[0;34m\u001b[0m\u001b[0m\n\u001b[0;32m---> 43\u001b[0;31m \u001b[0mhistory\u001b[0m \u001b[0;34m=\u001b[0m \u001b[0mmodel\u001b[0m\u001b[0;34m.\u001b[0m\u001b[0mfit\u001b[0m\u001b[0;34m(\u001b[0m\u001b[0mtrain_x\u001b[0m\u001b[0;34m,\u001b[0m\u001b[0mtrain_y\u001b[0m\u001b[0;34m,\u001b[0m \u001b[0mbatch_size\u001b[0m\u001b[0;34m=\u001b[0m \u001b[0;36m100\u001b[0m\u001b[0;34m,\u001b[0m \u001b[0mepochs\u001b[0m\u001b[0;34m=\u001b[0m\u001b[0;36m1000\u001b[0m\u001b[0;34m)\u001b[0m\u001b[0;34m\u001b[0m\u001b[0;34m\u001b[0m\u001b[0m\n\u001b[0m\u001b[1;32m     44\u001b[0m \u001b[0;31m#_,accuracy = model.evaluate(train_x,train_y)\u001b[0m\u001b[0;34m\u001b[0m\u001b[0;34m\u001b[0m\u001b[0;34m\u001b[0m\u001b[0m\n\u001b[1;32m     45\u001b[0m \u001b[0;34m\u001b[0m\u001b[0m\n",
            "\u001b[0;32m/usr/local/lib/python3.6/dist-packages/tensorflow/python/keras/engine/training_v1.py\u001b[0m in \u001b[0;36mfit\u001b[0;34m(self, x, y, batch_size, epochs, verbose, callbacks, validation_split, validation_data, shuffle, class_weight, sample_weight, initial_epoch, steps_per_epoch, validation_steps, validation_freq, max_queue_size, workers, use_multiprocessing, **kwargs)\u001b[0m\n\u001b[1;32m    807\u001b[0m         \u001b[0mmax_queue_size\u001b[0m\u001b[0;34m=\u001b[0m\u001b[0mmax_queue_size\u001b[0m\u001b[0;34m,\u001b[0m\u001b[0;34m\u001b[0m\u001b[0;34m\u001b[0m\u001b[0m\n\u001b[1;32m    808\u001b[0m         \u001b[0mworkers\u001b[0m\u001b[0;34m=\u001b[0m\u001b[0mworkers\u001b[0m\u001b[0;34m,\u001b[0m\u001b[0;34m\u001b[0m\u001b[0;34m\u001b[0m\u001b[0m\n\u001b[0;32m--> 809\u001b[0;31m         use_multiprocessing=use_multiprocessing)\n\u001b[0m\u001b[1;32m    810\u001b[0m \u001b[0;34m\u001b[0m\u001b[0m\n\u001b[1;32m    811\u001b[0m   def evaluate(self,\n",
            "\u001b[0;32m/usr/local/lib/python3.6/dist-packages/tensorflow/python/keras/engine/training_arrays.py\u001b[0m in \u001b[0;36mfit\u001b[0;34m(self, model, x, y, batch_size, epochs, verbose, callbacks, validation_split, validation_data, shuffle, class_weight, sample_weight, initial_epoch, steps_per_epoch, validation_steps, validation_freq, **kwargs)\u001b[0m\n\u001b[1;32m    664\u001b[0m         \u001b[0mvalidation_steps\u001b[0m\u001b[0;34m=\u001b[0m\u001b[0mvalidation_steps\u001b[0m\u001b[0;34m,\u001b[0m\u001b[0;34m\u001b[0m\u001b[0;34m\u001b[0m\u001b[0m\n\u001b[1;32m    665\u001b[0m         \u001b[0mvalidation_freq\u001b[0m\u001b[0;34m=\u001b[0m\u001b[0mvalidation_freq\u001b[0m\u001b[0;34m,\u001b[0m\u001b[0;34m\u001b[0m\u001b[0;34m\u001b[0m\u001b[0m\n\u001b[0;32m--> 666\u001b[0;31m         steps_name='steps_per_epoch')\n\u001b[0m\u001b[1;32m    667\u001b[0m \u001b[0;34m\u001b[0m\u001b[0m\n\u001b[1;32m    668\u001b[0m   def evaluate(self,\n",
            "\u001b[0;32m/usr/local/lib/python3.6/dist-packages/tensorflow/python/keras/engine/training_arrays.py\u001b[0m in \u001b[0;36mmodel_iteration\u001b[0;34m(model, inputs, targets, sample_weights, batch_size, epochs, verbose, callbacks, val_inputs, val_targets, val_sample_weights, shuffle, initial_epoch, steps_per_epoch, validation_steps, validation_freq, mode, validation_in_fit, prepared_feed_values_from_dataset, steps_name, **kwargs)\u001b[0m\n\u001b[1;32m    384\u001b[0m \u001b[0;34m\u001b[0m\u001b[0m\n\u001b[1;32m    385\u001b[0m         \u001b[0;31m# Get outputs.\u001b[0m\u001b[0;34m\u001b[0m\u001b[0;34m\u001b[0m\u001b[0;34m\u001b[0m\u001b[0m\n\u001b[0;32m--> 386\u001b[0;31m         \u001b[0mbatch_outs\u001b[0m \u001b[0;34m=\u001b[0m \u001b[0mf\u001b[0m\u001b[0;34m(\u001b[0m\u001b[0mins_batch\u001b[0m\u001b[0;34m)\u001b[0m\u001b[0;34m\u001b[0m\u001b[0;34m\u001b[0m\u001b[0m\n\u001b[0m\u001b[1;32m    387\u001b[0m         \u001b[0;32mif\u001b[0m \u001b[0;32mnot\u001b[0m \u001b[0misinstance\u001b[0m\u001b[0;34m(\u001b[0m\u001b[0mbatch_outs\u001b[0m\u001b[0;34m,\u001b[0m \u001b[0mlist\u001b[0m\u001b[0;34m)\u001b[0m\u001b[0;34m:\u001b[0m\u001b[0;34m\u001b[0m\u001b[0;34m\u001b[0m\u001b[0m\n\u001b[1;32m    388\u001b[0m           \u001b[0mbatch_outs\u001b[0m \u001b[0;34m=\u001b[0m \u001b[0;34m[\u001b[0m\u001b[0mbatch_outs\u001b[0m\u001b[0;34m]\u001b[0m\u001b[0;34m\u001b[0m\u001b[0;34m\u001b[0m\u001b[0m\n",
            "\u001b[0;32m/usr/local/lib/python3.6/dist-packages/tensorflow/python/keras/backend.py\u001b[0m in \u001b[0;36m__call__\u001b[0;34m(self, inputs)\u001b[0m\n\u001b[1;32m   3823\u001b[0m \u001b[0;34m\u001b[0m\u001b[0m\n\u001b[1;32m   3824\u001b[0m     fetched = self._callable_fn(*array_vals,\n\u001b[0;32m-> 3825\u001b[0;31m                                 run_metadata=self.run_metadata)\n\u001b[0m\u001b[1;32m   3826\u001b[0m     \u001b[0mself\u001b[0m\u001b[0;34m.\u001b[0m\u001b[0m_call_fetch_callbacks\u001b[0m\u001b[0;34m(\u001b[0m\u001b[0mfetched\u001b[0m\u001b[0;34m[\u001b[0m\u001b[0;34m-\u001b[0m\u001b[0mlen\u001b[0m\u001b[0;34m(\u001b[0m\u001b[0mself\u001b[0m\u001b[0;34m.\u001b[0m\u001b[0m_fetches\u001b[0m\u001b[0;34m)\u001b[0m\u001b[0;34m:\u001b[0m\u001b[0;34m]\u001b[0m\u001b[0;34m)\u001b[0m\u001b[0;34m\u001b[0m\u001b[0;34m\u001b[0m\u001b[0m\n\u001b[1;32m   3827\u001b[0m     output_structure = nest.pack_sequence_as(\n",
            "\u001b[0;32m/usr/local/lib/python3.6/dist-packages/tensorflow/python/client/session.py\u001b[0m in \u001b[0;36m__call__\u001b[0;34m(self, *args, **kwargs)\u001b[0m\n\u001b[1;32m   1470\u001b[0m         ret = tf_session.TF_SessionRunCallable(self._session._session,\n\u001b[1;32m   1471\u001b[0m                                                \u001b[0mself\u001b[0m\u001b[0;34m.\u001b[0m\u001b[0m_handle\u001b[0m\u001b[0;34m,\u001b[0m \u001b[0margs\u001b[0m\u001b[0;34m,\u001b[0m\u001b[0;34m\u001b[0m\u001b[0;34m\u001b[0m\u001b[0m\n\u001b[0;32m-> 1472\u001b[0;31m                                                run_metadata_ptr)\n\u001b[0m\u001b[1;32m   1473\u001b[0m         \u001b[0;32mif\u001b[0m \u001b[0mrun_metadata\u001b[0m\u001b[0;34m:\u001b[0m\u001b[0;34m\u001b[0m\u001b[0;34m\u001b[0m\u001b[0m\n\u001b[1;32m   1474\u001b[0m           \u001b[0mproto_data\u001b[0m \u001b[0;34m=\u001b[0m \u001b[0mtf_session\u001b[0m\u001b[0;34m.\u001b[0m\u001b[0mTF_GetBuffer\u001b[0m\u001b[0;34m(\u001b[0m\u001b[0mrun_metadata_ptr\u001b[0m\u001b[0;34m)\u001b[0m\u001b[0;34m\u001b[0m\u001b[0;34m\u001b[0m\u001b[0m\n",
            "\u001b[0;31mKeyboardInterrupt\u001b[0m: "
          ]
        }
      ]
    },
    {
      "cell_type": "code",
      "metadata": {
        "id": "Rd4pCBlcDdak",
        "colab": {
          "base_uri": "https://localhost:8080/",
          "height": 837
        },
        "outputId": "18ecd267-2fac-4d37-f6fe-cdaef50cd464"
      },
      "source": [
        "#Eric\n",
        "import matplotlib.pyplot as plt\n",
        "\n",
        "plt.plot(model.evaluate(train_x,train_y))\n",
        "plt.plot(model.evaluate(test_x,test_y))\n",
        "plt.title('model')\n",
        "plt.legend(['train', 'test'], loc='upper left')\n",
        "plt.show()\n",
        "\n",
        "plt.plot(model.evaluate(train_x,train_y))\n",
        "plt.plot(model.evaluate(test_x,test_y))\n",
        "plt.plot(history.history['acc'])\n",
        "plt.title('model accuracy')\n",
        "plt.ylabel('accuracy')\n",
        "plt.xlabel('epoch')\n",
        "plt.legend(['train', 'test'], loc='upper left')\n",
        "plt.show()\n",
        "\n",
        "plt.plot(model.evaluate(train_x,train_y))\n",
        "plt.plot(model.evaluate(test_x,test_y))\n",
        "plt.plot(history.history['loss'])\n",
        "plt.title('model loss')\n",
        "plt.ylabel('loss')\n",
        "plt.xlabel('epoch')\n",
        "plt.legend(['train', 'test'], loc='upper left')\n",
        "plt.show()"
      ],
      "execution_count": null,
      "outputs": [
        {
          "output_type": "display_data",
          "data": {
            "image/png": "[encoded data removed]",
            "text/plain": [
              "<Figure size 432x288 with 1 Axes>"
            ]
          },
          "metadata": {
            "tags": [],
            "needs_background": "light"
          }
        },
        {
          "output_type": "display_data",
          "data": {
            "image/png": "[encoded data removed]",
            "text/plain": [
              "<Figure size 432x288 with 1 Axes>"
            ]
          },
          "metadata": {
            "tags": [],
            "needs_background": "light"
          }
        },
        {
          "output_type": "display_data",
          "data": {
            "image/png": "[encoded data removed]",
            "text/plain": [
              "<Figure size 432x288 with 1 Axes>"
            ]
          },
          "metadata": {
            "tags": [],
            "needs_background": "light"
          }
        }
      ]
    }
  ]
}