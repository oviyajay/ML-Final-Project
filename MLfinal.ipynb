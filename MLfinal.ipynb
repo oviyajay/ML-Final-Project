{
  "nbformat": 4,
  "nbformat_minor": 0,
  "metadata": {
    "colab": {
      "name": "MLfinal.ipynb",
      "provenance": [],
      "include_colab_link": true
    },
    "kernelspec": {
      "name": "python3",
      "display_name": "Python 3"
    }
  },
  "cells": [
    {
      "cell_type": "markdown",
      "metadata": {
        "id": "view-in-github",
        "colab_type": "text"
      },
      "source": [
        "<a href=\"https://colab.research.google.com/github/oviyajay/ML-Final-Project/blob/main/MLfinal.ipynb\" target=\"_parent\"><img src=\"https://colab.research.google.com/assets/colab-badge.svg\" alt=\"Open In Colab\"/></a>"
      ]
    },
    {
      "cell_type": "code",
      "metadata": {
        "id": "aOWb6AxezM4z",
        "colab": {
          "base_uri": "https://localhost:8080/"
        },
        "outputId": "6b3d991e-e2ce-4c09-fcad-f012853d1288"
      },
      "source": [
        "import numpy as np\n",
        "import tensorflow as tf\n",
        "import os \n",
        "import cv2\n",
        "!pip install tflearn\n",
        "import tflearn \n",
        "from tflearn.layers.conv import conv_2d, max_pool_2d \n",
        "from tflearn.layers.core import input_data, dropout, fully_connected \n",
        "from tflearn.layers.estimator import regression \n",
        "\n",
        "#Members:...\n",
        "#https://blog.paperspace.com/image-captioning-with-ai/\n",
        "#image preprocessing\n",
        "\n",
        "# TEST_W_MASK=\"https://github.com/oviyajay/ML-Final-Project/tree/main/maskdata/maskdata/test/with_mask\"\n",
        "# TEST_WO_MASK=\"https://github.com/oviyajay/ML-Final-Project/tree/main/maskdata/maskdata/test/without_mask\"\n",
        "# TRAIN_W_MASK=\"https://github.com/oviyajay/ML-Final-Project/tree/main/maskdata/maskdata/train/with_mask\"\n",
        "# TRAIN_WO_MASK=\"https://github.com/oviyajay/ML-Final-Project/tree/main/maskdata/maskdata/train/without_mask\"\n",
        "\n",
        "!git clone https://github.com/oviyajay/ML-Final-Project\n",
        "\n",
        "#label the images\n",
        "#create training data and test data \n"
      ],
      "execution_count": 1,
      "outputs": [
        {
          "output_type": "stream",
          "text": [
            "Collecting tflearn\n",
            "\u001b[?25l  Downloading https://files.pythonhosted.org/packages/e7/3c/0b156d08ef3d4e2a8009ecab2af1ad2e304f6fb99562b6271c68a74a4397/tflearn-0.5.0.tar.gz (107kB)\n",
            "\r\u001b[K     |███                             | 10kB 5.0MB/s eta 0:00:01\r\u001b[K     |██████                          | 20kB 8.2MB/s eta 0:00:01\r\u001b[K     |█████████▏                      | 30kB 10.8MB/s eta 0:00:01\r\u001b[K     |████████████▏                   | 40kB 8.5MB/s eta 0:00:01\r\u001b[K     |███████████████▎                | 51kB 4.4MB/s eta 0:00:01\r\u001b[K     |██████████████████▎             | 61kB 3.9MB/s eta 0:00:01\r\u001b[K     |█████████████████████▍          | 71kB 4.4MB/s eta 0:00:01\r\u001b[K     |████████████████████████▍       | 81kB 4.8MB/s eta 0:00:01\r\u001b[K     |███████████████████████████▌    | 92kB 4.9MB/s eta 0:00:01\r\u001b[K     |██████████████████████████████▌ | 102kB 5.2MB/s eta 0:00:01\r\u001b[K     |████████████████████████████████| 112kB 5.2MB/s \n",
            "\u001b[?25hRequirement already satisfied: numpy in /usr/local/lib/python3.6/dist-packages (from tflearn) (1.18.5)\n",
            "Requirement already satisfied: six in /usr/local/lib/python3.6/dist-packages (from tflearn) (1.15.0)\n",
            "Requirement already satisfied: Pillow in /usr/local/lib/python3.6/dist-packages (from tflearn) (7.0.0)\n",
            "Building wheels for collected packages: tflearn\n",
            "  Building wheel for tflearn (setup.py) ... \u001b[?25l\u001b[?25hdone\n",
            "  Created wheel for tflearn: filename=tflearn-0.5.0-cp36-none-any.whl size=127301 sha256=5978b6a05262b67c397c4f7733d3b9891958b676ee59d5f7e9d0eb04f29f8812\n",
            "  Stored in directory: /root/.cache/pip/wheels/31/d2/ed/fb9a0d301dd9586c11e9547120278e624227f22fd5f4baf744\n",
            "Successfully built tflearn\n",
            "Installing collected packages: tflearn\n",
            "Successfully installed tflearn-0.5.0\n",
            "WARNING:tensorflow:From /usr/local/lib/python3.6/dist-packages/tensorflow/python/compat/v2_compat.py:96: disable_resource_variables (from tensorflow.python.ops.variable_scope) is deprecated and will be removed in a future version.\n",
            "Instructions for updating:\n",
            "non-resource variables are not supported in the long term\n",
            "Cloning into 'ML-Final-Project'...\n",
            "remote: Enumerating objects: 9, done.\u001b[K\n",
            "remote: Counting objects: 100% (9/9), done.\u001b[K\n",
            "remote: Compressing objects: 100% (9/9), done.\u001b[K\n",
            "remote: Total 955 (delta 2), reused 0 (delta 0), pack-reused 946\u001b[K\n",
            "Receiving objects: 100% (955/955), 109.16 MiB | 34.89 MiB/s, done.\n",
            "Resolving deltas: 100% (41/41), done.\n"
          ],
          "name": "stdout"
        }
      ]
    },
    {
      "cell_type": "code",
      "metadata": {
        "id": "1uI6V8QNzIAT",
        "colab": {
          "base_uri": "https://localhost:8080/"
        },
        "outputId": "d2abfe3c-e725-42b1-f375-5dc59c1603a3"
      },
      "source": [
        "#Eric \n",
        "train_path = \"/content/ML-Final-Project/maskdata/maskdata/train/\"\n",
        "os.listdir(train_path)\n",
        "\n",
        "test_path = \"/content/ML-Final-Project/maskdata/maskdata/test/\"\n",
        "os.listdir(test_path)\n",
        "\n"
      ],
      "execution_count": 2,
      "outputs": [
        {
          "output_type": "execute_result",
          "data": {
            "text/plain": [
              "['with_mask', 'without_mask']"
            ]
          },
          "metadata": {
            "tags": []
          },
          "execution_count": 2
        }
      ]
    },
    {
      "cell_type": "code",
      "metadata": {
        "id": "6X4S4x1euWQY"
      },
      "source": [
        "label_names = ['without_mask', 'with_mask']\n",
        "IMG_SIZE = 50\n",
        "LR = 1e-3\n",
        "MODEL_NAME = 'withMaskvsnoMask-{}-{}.model'.format(LR, '6conv-basic')\n",
        "\n",
        "def load_data(path):\n",
        "  data = []\n",
        "\n",
        "  for label in label_names:\n",
        "    for filename in os.listdir(os.path.join(path, label)):\n",
        "    \n",
        "      img_file = os.path.join(path, label, filename)\n",
        "       \n",
        "      img = cv2.imread(img_file, cv2.IMREAD_COLOR)    \n",
        "      \n",
        "\n",
        "      # resizing the image for processing\n",
        "      img = cv2.resize(img, (IMG_SIZE, IMG_SIZE), )\n",
        "      \n",
        "\n",
        "      #withmask: id = 1, withoutmask: id = 0\n",
        "      label_id = label_names.index(label)\n",
        "  \n",
        "\n",
        "      # final step-forming the training data list with numpy array of the images \n",
        "      data.append([np.array(img), np.array(label_id)]) \n",
        "  return data\n",
        "\n"
      ],
      "execution_count": 3,
      "outputs": []
    },
    {
      "cell_type": "code",
      "metadata": {
        "id": "fgefZWnaxlpw",
        "colab": {
          "base_uri": "https://localhost:8080/"
        },
        "outputId": "68192d24-47c0-4c25-8034-f0f2c664ed1a"
      },
      "source": [
        "train_data = load_data(train_path)\n",
        "print(len(train_data))\n",
        "test_data = load_data(test_path)\n"
      ],
      "execution_count": 4,
      "outputs": [
        {
          "output_type": "stream",
          "text": [
            "616\n"
          ],
          "name": "stdout"
        }
      ]
    },
    {
      "cell_type": "code",
      "metadata": {
        "id": "AOsI47vYx8DQ",
        "colab": {
          "base_uri": "https://localhost:8080/"
        },
        "outputId": "f422305a-a0e1-4600-fb66-b0ce8351d8c6"
      },
      "source": [
        "# train is a list of [x, y] pairs\n",
        "#train_x = [i[0] for i in train_data]  #i[0] is a numpy array that is the size/shape of a single image\n",
        "print(len(train_data))\n",
        "train_x = [i[0] for i in train_data]\n",
        "train_x = np.array(train_x, dtype=float).reshape(-1, IMG_SIZE, IMG_SIZE, 3)  # num_image, width, height, channels\n",
        "train_y = [i[1] for i in train_data]\n",
        "train_y = np.array(train_y, dtype=float)\n",
        "#train_y = tf.keras.utils.to_categorical(train_y)\n",
        "test_x = [i[0] for i in test_data]\n",
        "test_x = np.array(test_x).reshape(-1, IMG_SIZE, IMG_SIZE, 3) \n",
        "test_y = [i[1] for i in test_data]\n",
        "test_y = np.array(test_y, dtype=float)\n",
        "print(train_x.shape)\n",
        "print(train_y.shape)\n"
      ],
      "execution_count": 5,
      "outputs": [
        {
          "output_type": "stream",
          "text": [
            "616\n",
            "(616, 50, 50, 3)\n",
            "(616,)\n"
          ],
          "name": "stdout"
        }
      ]
    },
    {
      "cell_type": "code",
      "metadata": {
        "id": "WgiiQ1Z3teiN",
        "colab": {
          "base_uri": "https://localhost:8080/"
        },
        "outputId": "aa37a996-8107-4520-df43-5f60db3eaf7d"
      },
      "source": [
        "#Iant\n",
        "#tf.reset_default_graph() \n",
        "cnn = input_data(shape =[None, IMG_SIZE, IMG_SIZE, 1], name ='input') \n",
        "\n",
        "#convolution and pooling operations\n",
        "#as for the arguments, (convolutional network, numbers of channels, filter size(if one number 'x' is passed, then both dimensions are 'x' ), activation function used)\n",
        "#in our case, we're starting with 16 channels, gradually working up to 128. By convention, the number of channels gradually increase or stay the same as it works its way further into the CNN\n",
        "#filter size changed from 5x5 to 3x3\n",
        "\n",
        "cnn = conv_2d(cnn, 16, 3, activation ='relu') \n",
        "cnn = max_pool_2d(cnn, 3) \n",
        "\n",
        "cnn = conv_2d(cnn, 32, 3, activation ='relu') \n",
        "cnn = max_pool_2d(cnn, 3) \n",
        "  \n",
        "cnn = conv_2d(cnn, 64, 3, activation ='relu') \n",
        "cnn = max_pool_2d(cnn, 3) \n",
        "  \n",
        "cnn = conv_2d(cnn, 128, 3, activation ='relu') \n",
        "cnn = max_pool_2d(cnn, 3) \n",
        "  \n",
        "cnn = fully_connected(cnn, 1024, activation ='relu') \n",
        "cnn = dropout(cnn, 0.8) \n",
        "  \n",
        "cnn = fully_connected(cnn, 2, activation ='softmax') \n",
        "cnn = regression(cnn, optimizer ='adam', learning_rate = LR, \n",
        "      loss ='categorical_crossentropy', name ='targets') \n",
        "  \n",
        "model = tflearn.DNN(cnn, tensorboard_dir ='log') "
      ],
      "execution_count": 6,
      "outputs": [
        {
          "output_type": "stream",
          "text": [
            "WARNING:tensorflow:From /usr/local/lib/python3.6/dist-packages/tflearn/initializations.py:110: calling UniformUnitScaling.__init__ (from tensorflow.python.ops.init_ops) with dtype is deprecated and will be removed in a future version.\n",
            "Instructions for updating:\n",
            "Call initializer instance with the dtype argument instead of passing it to the constructor\n",
            "WARNING:tensorflow:From /usr/local/lib/python3.6/dist-packages/tensorflow/python/util/deprecation.py:507: UniformUnitScaling.__init__ (from tensorflow.python.ops.init_ops) is deprecated and will be removed in a future version.\n",
            "Instructions for updating:\n",
            "Use tf.initializers.variance_scaling instead with distribution=uniform to get equivalent behavior.\n",
            "WARNING:tensorflow:From /usr/local/lib/python3.6/dist-packages/tflearn/initializations.py:165: calling TruncatedNormal.__init__ (from tensorflow.python.ops.init_ops) with dtype is deprecated and will be removed in a future version.\n",
            "Instructions for updating:\n",
            "Call initializer instance with the dtype argument instead of passing it to the constructor\n",
            "WARNING:tensorflow:From /usr/local/lib/python3.6/dist-packages/tensorflow/python/util/dispatch.py:201: calling dropout (from tensorflow.python.ops.nn_ops) with keep_prob is deprecated and will be removed in a future version.\n",
            "Instructions for updating:\n",
            "Please use `rate` instead of `keep_prob`. Rate should be set to `rate = 1 - keep_prob`.\n"
          ],
          "name": "stdout"
        }
      ]
    },
    {
      "cell_type": "code",
      "metadata": {
        "id": "lNXpYjbGtp-h",
        "colab": {
          "base_uri": "https://localhost:8080/"
        },
        "outputId": "247702a7-2aad-48d5-81b6-592125b8b0fc"
      },
      "source": [
        "#Oviya\n",
        "#model.fit({'input': train_x}, {'targets': train_y}, n_epoch=10, validation_set=({'input': test_x}, {'targets': test_y}),snapshot_step = 500, show_metric=True,run_id = MODEL_NAME )\n",
        "#model.save(MODEL_NAME)\n",
        "\n",
        "#--------------------using KERAS------------------------------#\n",
        "\n",
        "#create our CNN Model\n",
        "\n",
        "class MyModel(tf.keras.Model):\n",
        "  def __init__(self):\n",
        "    #define layers\n",
        "    super(MyModel, self).__init__()\n",
        "    self.conv1 = tf.keras.layers.Conv2D(32, kernel_size=(5,5),activation=tf.nn.relu, input_shape=(IMG_SIZE,IMG_SIZE,3))\n",
        "    self.max1 = tf.keras.layers.MaxPooling2D(pool_size=(2,2), strides=(2,2))\n",
        "    self.conv2 = tf.keras.layers.Conv2D(64, (5,5), activation = 'relu')\n",
        "    self.max2=tf.keras.layers.MaxPooling2D(pool_size=(2,2))\n",
        "  \n",
        "  def call(self,inputs):\n",
        "    #first convolution layer\n",
        "    convOne = (self.conv1)(inputs)\n",
        "    maxOne = (self.max1)(convOne)\n",
        "    #second convolution layer\n",
        "    convTwo = (self.conv2)(maxOne)\n",
        "    maxTwo = (self.max2)(convTwo)\n",
        "    #flatten the array\n",
        "    flat = tf.keras.layers.Flatten()(maxTwo)\n",
        "    #hidden layer\n",
        "    hiddenLayer = tf.keras.layers.Dense(75, activation = 'relu')(flat) \n",
        "    #output layer\n",
        "    outputLayer = tf.keras.layers.Dense(2, activation ='softmax')(hiddenLayer)\n",
        "\n",
        "\n",
        "\n",
        "    return outputLayer\n",
        "\n",
        "#call model and send in inputs \n",
        "#input layer\n",
        "#inputs = tf.keras.Input(shape=(3,), tensor=train_x)\n",
        "model = MyModel()\n",
        "model.compile(loss='categorical_crossentropy', metrics=['accuracy'], optimizer='sgd')\n",
        "history = model.fit(train_x,train_y, batch_size= 100, epochs=20)\n",
        "#_,accuracy = model.evaluate(train_x,train_y)\n",
        "\n",
        "\n"
      ],
      "execution_count": 72,
      "outputs": [
        {
          "output_type": "stream",
          "text": [
            "Train on 616 samples\n",
            "Epoch 1/20\n",
            "616/616 [==============================] - 2s 4ms/sample - loss: 1869.9061 - acc: 0.4416\n",
            "Epoch 2/20\n",
            "616/616 [==============================] - 2s 4ms/sample - loss: 0.7934 - acc: 0.5373\n",
            "Epoch 3/20\n",
            "616/616 [==============================] - 2s 4ms/sample - loss: 0.7791 - acc: 0.6786\n",
            "Epoch 4/20\n",
            "616/616 [==============================] - 2s 4ms/sample - loss: 0.7757 - acc: 0.6932\n",
            "Epoch 5/20\n",
            "616/616 [==============================] - 2s 4ms/sample - loss: 0.7760 - acc: 0.6672\n",
            "Epoch 6/20\n",
            "616/616 [==============================] - 2s 4ms/sample - loss: 0.7748 - acc: 0.6477\n",
            "Epoch 7/20\n",
            "616/616 [==============================] - 2s 4ms/sample - loss: 0.7766 - acc: 0.6347\n",
            "Epoch 8/20\n",
            "616/616 [==============================] - 2s 4ms/sample - loss: 0.7763 - acc: 0.6169\n",
            "Epoch 9/20\n",
            "616/616 [==============================] - 2s 4ms/sample - loss: 0.7765 - acc: 0.5828\n",
            "Epoch 10/20\n",
            "616/616 [==============================] - 2s 4ms/sample - loss: 0.7777 - acc: 0.5877\n",
            "Epoch 11/20\n",
            "616/616 [==============================] - 2s 4ms/sample - loss: 0.7909 - acc: 0.4854\n",
            "Epoch 12/20\n",
            "616/616 [==============================] - 2s 4ms/sample - loss: 0.7832 - acc: 0.5260\n",
            "Epoch 13/20\n",
            "616/616 [==============================] - 2s 4ms/sample - loss: 0.8266 - acc: 0.4156\n",
            "Epoch 14/20\n",
            "616/616 [==============================] - 2s 4ms/sample - loss: 0.7970 - acc: 0.4724\n",
            "Epoch 15/20\n",
            "616/616 [==============================] - 2s 4ms/sample - loss: 0.8952 - acc: 0.3636\n",
            "Epoch 16/20\n",
            "616/616 [==============================] - 2s 4ms/sample - loss: 1.8146 - acc: 0.4773\n",
            "Epoch 17/20\n",
            "616/616 [==============================] - 2s 4ms/sample - loss: 0.9579 - acc: 0.5292\n",
            "Epoch 18/20\n",
            "616/616 [==============================] - 2s 4ms/sample - loss: 1.1632 - acc: 0.5065\n",
            "Epoch 19/20\n",
            "616/616 [==============================] - 2s 4ms/sample - loss: 0.7954 - acc: 0.6688\n",
            "Epoch 20/20\n",
            "616/616 [==============================] - 2s 4ms/sample - loss: 0.8785 - acc: 0.5682\n"
          ],
          "name": "stdout"
        }
      ]
    },
    {
      "cell_type": "code",
      "metadata": {
        "id": "xiP5BYCdePr1",
        "outputId": "eca66cf5-5544-4005-bfe9-a9143807f9f9",
        "colab": {
          "base_uri": "https://localhost:8080/",
          "height": 837
        }
      },
      "source": [
        "#Eric\n",
        "import matplotlib.pyplot as plt\n",
        "\n",
        "plt.plot(model.evaluate(train_x,train_y))\n",
        "plt.plot(model.evaluate(test_x,test_y))\n",
        "plt.title('model')\n",
        "plt.legend(['train', 'test'], loc='upper left')\n",
        "plt.show()\n",
        "\n",
        "plt.plot(model.evaluate(train_x,train_y))\n",
        "plt.plot(model.evaluate(test_x,test_y))\n",
        "plt.plot(history.history['acc'])\n",
        "plt.title('model accuracy')\n",
        "plt.ylabel('accuracy')\n",
        "plt.xlabel('epoch')\n",
        "plt.legend(['train', 'test'], loc='upper left')\n",
        "plt.show()\n",
        "\n",
        "plt.plot(model.evaluate(train_x,train_y))\n",
        "plt.plot(model.evaluate(test_x,test_y))\n",
        "plt.plot(history.history['loss'])\n",
        "plt.title('model loss')\n",
        "plt.ylabel('loss')\n",
        "plt.xlabel('epoch')\n",
        "plt.legend(['train', 'test'], loc='upper left')\n",
        "plt.show()"
      ],
      "execution_count": 73,
      "outputs": [
        {
          "output_type": "display_data",
          "data": {
            "image/png": "[encoded data removed]",
            "text/plain": [
              "<Figure size 432x288 with 1 Axes>"
            ]
          },
          "metadata": {
            "tags": [],
            "needs_background": "light"
          }
        },
        {
          "output_type": "display_data",
          "data": {
            "image/png": "[encoded data removed]",
            "text/plain": [
              "<Figure size 432x288 with 1 Axes>"
            ]
          },
          "metadata": {
            "tags": [],
            "needs_background": "light"
          }
        },
        {
          "output_type": "display_data",
          "data": {
            "image/png": "[encoded data removed]",
            "text/plain": [
              "<Figure size 432x288 with 1 Axes>"
            ]
          },
          "metadata": {
            "tags": [],
            "needs_background": "light"
          }
        }
      ]
    }
  ]
}