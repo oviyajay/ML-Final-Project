{
  "nbformat": 4,
  "nbformat_minor": 0,
  "metadata": {
    "colab": {
      "name": "MLfinal.old.ipynb",
      "provenance": []
    },
    "kernelspec": {
      "name": "python3",
      "display_name": "Python 3"
    }
  },
  "cells": [
    {
      "cell_type": "code",
      "metadata": {
        "id": "JUo-5sNtgd5y"
      },
      "source": [
        "import numpy as np\n",
        "import tensorflow as tf\n",
        "import os \n",
        "import cv2\n",
        "!pip install tflearn\n",
        "import tflearn \n",
        "from tflearn.layers.conv import conv_2d, max_pool_2d \n",
        "from tflearn.layers.core import input_data, dropout, fully_connected \n",
        "from tflearn.layers.estimator import regression \n",
        "\n",
        "#Members:...\n",
        "#https://blog.paperspace.com/image-captioning-with-ai/\n",
        "#image preprocessing\n",
        "\n",
        "# TEST_W_MASK=\"https://github.com/oviyajay/ML-Final-Project/tree/main/maskdata/maskdata/test/with_mask\"\n",
        "# TEST_WO_MASK=\"https://github.com/oviyajay/ML-Final-Project/tree/main/maskdata/maskdata/test/without_mask\"\n",
        "# TRAIN_W_MASK=\"https://github.com/oviyajay/ML-Final-Project/tree/main/maskdata/maskdata/train/with_mask\"\n",
        "# TRAIN_WO_MASK=\"https://github.com/oviyajay/ML-Final-Project/tree/main/maskdata/maskdata/train/without_mask\"\n",
        "\n",
        "!git clone https://github.com/oviyajay/ML-Final-Project\n",
        "\n",
        "#label the images\n",
        "#create training data and test data"
      ],
      "execution_count": null,
      "outputs": []
    },
    {
      "cell_type": "code",
      "metadata": {
        "id": "7b5434aZgnR6"
      },
      "source": [
        "#Eric \n",
        "train_path = \"/content/ML-Final-Project/maskdata/maskdata/train/\"\n",
        "os.listdir(train_path)\n",
        "\n",
        "test_path = \"/content/ML-Final-Project/maskdata/maskdata/test/\"\n",
        "os.listdir(test_path)"
      ],
      "execution_count": null,
      "outputs": []
    },
    {
      "cell_type": "code",
      "metadata": {
        "id": "AC9wqoxBgpBg"
      },
      "source": [
        "label_names = ['with_mask', 'without_mask']\n",
        "IMG_SIZE = 150\n",
        "LR = 1e-3\n",
        "MODEL_NAME = 'withMaskvsnoMask-{}-{}.model'.format(LR, '6conv-basic')\n",
        "\n",
        "def load_data(path):\n",
        "  data = []\n",
        "\n",
        "  for label in label_names:\n",
        "    for filename in os.listdir(os.path.join(path, label)):\n",
        "      img_file = os.path.join(path, label, filename)\n",
        "      # loading the image from the path and then converting them into \n",
        "      # greyscale for easier covnet prob \n",
        "      img = cv2.imread(img_file, cv2.IMREAD_COLOR)\n",
        "\n",
        "      # resizing the image for processing them in the covnet \n",
        "      img = cv2.resize(img, (IMG_SIZE, IMG_SIZE))\n",
        "\n",
        "      label_id = label_names.index(label)\n",
        "\n",
        "      # final step-forming the training data list with numpy array of the images \n",
        "      data.append([np.array(img), np.array(label_id)]) \n",
        "\n",
        "      return data"
      ],
      "execution_count": null,
      "outputs": []
    },
    {
      "cell_type": "code",
      "metadata": {
        "id": "AtNLsilLgqTu"
      },
      "source": [
        "\n",
        "train_data = load_data(train_path)\n",
        "test_data = load_data(test_path)\n",
        "# print(train_data)"
      ],
      "execution_count": null,
      "outputs": []
    },
    {
      "cell_type": "code",
      "metadata": {
        "id": "-bUZIXjGgr6A"
      },
      "source": [
        "# train is a list of [x, y] pairs\n",
        "train_x = [i[0] for i in train_data]  #i[0] is a numpy array that is the size/shape of a single image\n",
        "train_x = np.array(train_x).reshape(-1, IMG_SIZE, IMG_SIZE, 1)  # num_image, width, height, channels\n",
        "train_y = [i[1] for i in train_data]\n",
        "test_x = [i[0] for i in test_data]\n",
        "test_x = np.array(test_x).reshape(-1, IMG_SIZE, IMG_SIZE, 1) \n",
        "test_y = [i[1] for i in test_data]\n",
        "print(train_x.shape)"
      ],
      "execution_count": null,
      "outputs": []
    },
    {
      "cell_type": "code",
      "metadata": {
        "id": "c_4ZNPNtgt4t"
      },
      "source": [
        "#Iant\n",
        "#tf.reset_default_graph() \n",
        "cnn = input_data(shape =[None, IMG_SIZE, IMG_SIZE, 1], name ='input') \n",
        "\n",
        "#convolution and pooling operations\n",
        "#as for the arguments, (convolutional network, numbers of channels, filter size(if one number 'x' is passed, then both dimensions are 'x' ), activation function used)\n",
        "#in our case, we're starting with 16 channels, gradually working up to 128. By convention, the number of channels gradually increase or stay the same as it works its way further into the CNN\n",
        "#filter size changed from 5x5 to 3x3\n",
        "\n",
        "cnn = conv_2d(cnn, 16, 3, activation ='relu') \n",
        "cnn = max_pool_2d(cnn, 3) \n",
        "\n",
        "cnn = conv_2d(cnn, 32, 3, activation ='relu') \n",
        "cnn = max_pool_2d(cnn, 3) \n",
        "  \n",
        "cnn = conv_2d(cnn, 64, 3, activation ='relu') \n",
        "cnn = max_pool_2d(cnn, 3) \n",
        "  \n",
        "cnn = conv_2d(cnn, 128, 3, activation ='relu') \n",
        "cnn = max_pool_2d(cnn, 3) \n",
        "  \n",
        "cnn = fully_connected(cnn, 1024, activation ='relu') \n",
        "cnn = dropout(cnn, 0.8) \n",
        "  \n",
        "cnn = fully_connected(cnn, 2, activation ='softmax') \n",
        "cnn = regression(cnn, optimizer ='adam', learning_rate = LR, \n",
        "      loss ='categorical_crossentropy', name ='targets') \n",
        "  \n",
        "model = tflearn.DNN(cnn, tensorboard_dir ='log')"
      ],
      "execution_count": null,
      "outputs": []
    },
    {
      "cell_type": "code",
      "metadata": {
        "id": "JzQkM4mjgwuv"
      },
      "source": [
        "\n",
        "#Oviya\n",
        "model.fit({'input': train_x}, {'targets': train_y}, n_epoch=10, validation_set=({'input': test_x}, {'targets': test_y}),snapshot_step = 500, show_metric=True,run_id = MODEL_NAME )\n",
        "model.save(MODEL_NAME)"
      ],
      "execution_count": null,
      "outputs": []
    }
  ]
}